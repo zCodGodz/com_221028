{
  "nbformat": 4,
  "nbformat_minor": 0,
  "metadata": {
    "colab": {
      "provenance": [],
      "authorship_tag": "ABX9TyPCPCQcszZzehn1vFbYwhqw",
      "include_colab_link": true
    },
    "kernelspec": {
      "name": "python3",
      "display_name": "Python 3"
    },
    "language_info": {
      "name": "python"
    }
  },
  "cells": [
    {
      "cell_type": "markdown",
      "metadata": {
        "id": "view-in-github",
        "colab_type": "text"
      },
      "source": [
        "<a href=\"https://colab.research.google.com/github/zCodGodz/com_221028/blob/main/com_22201_221028.ipynb\" target=\"_parent\"><img src=\"https://colab.research.google.com/assets/colab-badge.svg\" alt=\"Open In Colab\"/></a>"
      ]
    },
    {
      "cell_type": "code",
      "execution_count": 4,
      "metadata": {
        "colab": {
          "base_uri": "https://localhost:8080/"
        },
        "id": "cRK8a3lN9zwC",
        "outputId": "dc6bf209-5ca4-49d7-dfcd-7599512f5565"
      },
      "outputs": [
        {
          "output_type": "stream",
          "name": "stdout",
          "text": [
            "3개의 값을 입력하시오.\n",
            "x의 값을 입력하시오.: 3\n",
            "y의 값을 입력하시오.: 3\n",
            "z의 값을 입력하시오.: 3\n",
            "변경된 값은: 4 4 4 로 변경되었습니다.\n"
          ]
        }
      ],
      "source": [
        "print(\"3개의 값을 입력하시오.\")\n",
        "x = int(input(\"x의 값을 입력하시오.: \"))\n",
        "y = int(input(\"y의 값을 입력하시오.: \"))\n",
        "z = int(input(\"z의 값을 입력하시오.: \"))\n",
        "x = x + 1\n",
        "y= y + 1\n",
        "z = z + 1\n",
        "print( \"변경된 값은:\",x,y,z, \"로 변경되었습니다.\" )"
      ]
    },
    {
      "cell_type": "code",
      "source": [
        "print(\"현재 환율을 입력하시오\")\n",
        "exchange_rate = int(input(\"달러의 환율금액을 입력 : \"))\n",
        "won = int(input(\"한화금액을 입력하시오.: \" ))\n",
        "used = won + exchange_rate\n",
        "print(usd)"
      ],
      "metadata": {
        "id": "zqRiwo1EOYWY"
      },
      "execution_count": null,
      "outputs": []
    },
    {
      "cell_type": "code",
      "source": [
        "fahrenheit = 100\n",
        "celsius = fahrenheit - 32\n",
        "celsius = celsius * 5\n",
        "celsius = celsius / 9\n",
        "print(celsius)"
      ],
      "metadata": {
        "colab": {
          "base_uri": "https://localhost:8080/"
        },
        "id": "4xxKvmyTPb9J",
        "outputId": "6f0bf432-97ba-41ca-9682-b6a22a826e2f"
      },
      "execution_count": 10,
      "outputs": [
        {
          "output_type": "stream",
          "name": "stdout",
          "text": [
            "37.77777777777778\n"
          ]
        }
      ]
    },
    {
      "cell_type": "code",
      "source": [
        "fahrenheit = 100\n",
        "celsius = 5 * (fahrenheit-32)/9\n",
        "print(celsius)"
      ],
      "metadata": {
        "colab": {
          "base_uri": "https://localhost:8080/"
        },
        "id": "j4uCgfqBQEwu",
        "outputId": "79887a1f-787e-4410-e163-a4954934cd7d"
      },
      "execution_count": 12,
      "outputs": [
        {
          "output_type": "stream",
          "name": "stdout",
          "text": [
            "37.77777777777778\n"
          ]
        }
      ]
    }
  ]
}