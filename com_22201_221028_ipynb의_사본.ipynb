{
  "nbformat": 4,
  "nbformat_minor": 0,
  "metadata": {
    "colab": {
      "provenance": [],
      "authorship_tag": "ABX9TyMQ5CzRL/TZE0/uTVsPASIz",
      "include_colab_link": true
    },
    "kernelspec": {
      "name": "python3",
      "display_name": "Python 3"
    },
    "language_info": {
      "name": "python"
    }
  },
  "cells": [
    {
      "cell_type": "markdown",
      "metadata": {
        "id": "view-in-github",
        "colab_type": "text"
      },
      "source": [
        "<a href=\"https://colab.research.google.com/github/zCodGodz/com_221028/blob/main/com_22201_221028_ipynb%EC%9D%98_%EC%82%AC%EB%B3%B8.ipynb\" target=\"_parent\"><img src=\"https://colab.research.google.com/assets/colab-badge.svg\" alt=\"Open In Colab\"/></a>"
      ]
    },
    {
      "cell_type": "code",
      "execution_count": null,
      "metadata": {
        "colab": {
          "base_uri": "https://localhost:8080/"
        },
        "id": "cRK8a3lN9zwC",
        "outputId": "dc6bf209-5ca4-49d7-dfcd-7599512f5565"
      },
      "outputs": [
        {
          "output_type": "stream",
          "name": "stdout",
          "text": [
            "3개의 값을 입력하시오.\n",
            "x의 값을 입력하시오.: 3\n",
            "y의 값을 입력하시오.: 3\n",
            "z의 값을 입력하시오.: 3\n",
            "변경된 값은: 4 4 4 로 변경되었습니다.\n"
          ]
        }
      ],
      "source": [
        "print(\"3개의 값을 입력하시오.\")\n",
        "x = int(input(\"x의 값을 입력하시오.: \"))\n",
        "y = int(input(\"y의 값을 입력하시오.: \"))\n",
        "z = int(input(\"z의 값을 입력하시오.: \"))\n",
        "x = x + 1\n",
        "y= y + 1\n",
        "z = z + 1\n",
        "print( \"변경된 값은:\",x,y,z, \"로 변경되었습니다.\" )"
      ]
    },
    {
      "cell_type": "code",
      "source": [
        "print(\"현재 환율을 입력하시오\")\n",
        "exchange_rate = int(input(\"달러의 환율금액을 입력 : \"))\n",
        "won = int(input(\"한화금액을 입력하시오.: \" ))\n",
        "used = won + exchange_rate\n",
        "print(usd)"
      ],
      "metadata": {
        "id": "zqRiwo1EOYWY"
      },
      "execution_count": null,
      "outputs": []
    },
    {
      "cell_type": "code",
      "source": [
        "fahrenheit = 100\n",
        "celsius = fahrenheit - 32\n",
        "celsius = celsius * 5\n",
        "celsius = celsius / 9\n",
        "print(celsius)"
      ],
      "metadata": {
        "colab": {
          "base_uri": "https://localhost:8080/"
        },
        "id": "4xxKvmyTPb9J",
        "outputId": "6f0bf432-97ba-41ca-9682-b6a22a826e2f"
      },
      "execution_count": null,
      "outputs": [
        {
          "output_type": "stream",
          "name": "stdout",
          "text": [
            "37.77777777777778\n"
          ]
        }
      ]
    },
    {
      "cell_type": "code",
      "source": [
        "fahrenheit = 100\n",
        "celsius = 5 * (fahrenheit-32)/9\n",
        "print(celsius)"
      ],
      "metadata": {
        "colab": {
          "base_uri": "https://localhost:8080/"
        },
        "id": "j4uCgfqBQEwu",
        "outputId": "79887a1f-787e-4410-e163-a4954934cd7d"
      },
      "execution_count": null,
      "outputs": [
        {
          "output_type": "stream",
          "name": "stdout",
          "text": [
            "37.77777777777778\n"
          ]
        }
      ]
    },
    {
      "cell_type": "code",
      "source": [
        "total = 0\n",
        "counter = 1\n",
        "grade = 0\n",
        "while counter <= 10:\n",
        " int(input ( \"Enter grade: \"))\n",
        " total = grade + total\n",
        " counter = counter + 1\n",
        " average = total / 10\n",
        "print(average)\n"
      ],
      "metadata": {
        "id": "BVBxQbKLnfsj"
      },
      "execution_count": null,
      "outputs": []
    },
    {
      "cell_type": "code",
      "source": [
        "a = 10\n",
        "b = 6000\n",
        "c = a * b\n",
        "print(c)"
      ],
      "metadata": {
        "colab": {
          "base_uri": "https://localhost:8080/"
        },
        "id": "4DoT0DJXntEP",
        "outputId": "0c66e72f-8842-4f73-9509-3f0fa4183459"
      },
      "execution_count": null,
      "outputs": [
        {
          "output_type": "stream",
          "name": "stdout",
          "text": [
            "60000\n"
          ]
        }
      ]
    },
    {
      "cell_type": "code",
      "source": [
        "won = 100000\n",
        "usd = WON * 1130\n",
        "print(usd)"
      ],
      "metadata": {
        "colab": {
          "base_uri": "https://localhost:8080/"
        },
        "id": "WPYNAMTeon5U",
        "outputId": "c60b9738-0512-4ce7-eff0-eb0f1012f3d3"
      },
      "execution_count": null,
      "outputs": [
        {
          "output_type": "stream",
          "name": "stdout",
          "text": [
            "113000000\n"
          ]
        }
      ]
    },
    {
      "cell_type": "code",
      "source": [
        "fahrenheit = 100\n",
        "celsius = fahrenheit - 32\n",
        "celsius = celsius * 5\n",
        "celsius = celsius / 9\n",
        "print(celsius)"
      ],
      "metadata": {
        "id": "azHVh6_po7tl"
      },
      "execution_count": null,
      "outputs": []
    },
    {
      "cell_type": "code",
      "source": [
        "price = int(input(\"상품의 가격을 입력하시오: \"))\n",
        "vat = price * 0.1\n",
        "price(vat)"
      ],
      "metadata": {
        "id": "XODp7K6zpICV"
      },
      "execution_count": null,
      "outputs": []
    },
    {
      "cell_type": "code",
      "source": [
        "print(\"#############################\")\n",
        "print(\"#  배송료 계산 프로그램      #\")\n",
        "print(\"#############################\")\n",
        "price+ int(input(\"상품의 가격을 입력하세요: \"))\n",
        "if price > 2000:\n",
        "  shoppint_cost = 0\n",
        "else:\n",
        "  shopping_cost = 3000\n",
        "  print(shopping_cost)\n"
      ],
      "metadata": {
        "id": "8tooMTD_pmV-"
      },
      "execution_count": null,
      "outputs": []
    },
    {
      "cell_type": "code",
      "source": [
        "print(\"3개의 값을 입력하시오.\")\n",
        "x = int(input(\"Enter the x: \"))\n",
        "y = int(input(\"Enter the y: \"))\n",
        "z = int(input(\"Enter the z: \"))\n",
        "x = x + 1\n",
        "y= y + 1\n",
        "z = z + 1\n",
        "print( \"변경된 값 :\",x,y,z, )"
      ],
      "metadata": {
        "id": "hPjMCgqkrPUw"
      },
      "execution_count": null,
      "outputs": []
    },
    {
      "cell_type": "code",
      "source": [
        "pay_rate = 8750\n",
        "hours_worked = int(input(\"일을 한 전체 시간입력하세요!: \" ))\n",
        "monthly_pay = hours_worked * pay_rate\n",
        "print(monthly_pay)"
      ],
      "metadata": {
        "id": "ybEQKVHOrm63"
      },
      "execution_count": null,
      "outputs": []
    },
    {
      "cell_type": "code",
      "source": [
        "exchange_rate = int(input(\"현재 환율입력: \"))\n",
        "won = 100000\n",
        "usd = won * exchange_rate\n",
        "print(usd)"
      ],
      "metadata": {
        "id": "xz23i1NBsXk5"
      },
      "execution_count": null,
      "outputs": []
    },
    {
      "cell_type": "code",
      "source": [
        "x = 0\n",
        "y = 0\n",
        "x = int(input(\"정수 x를 입력하시오: \"))\n",
        "y = int(input(\"정수 y를 입력하시오: \"))\n",
        "su, = x + y\n",
        "print(sum)"
      ],
      "metadata": {
        "id": "9vaXv4oqsuCl"
      },
      "execution_count": null,
      "outputs": []
    },
    {
      "cell_type": "code",
      "source": [
        "age = int(input(\"현재 나이를 입력하시오: \"))\n",
        "age = age + 10\n",
        "print(\"10년후면\", age, \"세가 되시는 군요요\")"
      ],
      "metadata": {
        "id": "FMLRg_TmtIpX"
      },
      "execution_count": null,
      "outputs": []
    },
    {
      "cell_type": "code",
      "source": [
        "print(\"##################################\")\n",
        "print(\"# 합격 불합격 프로그램 #\")\n",
        "print(\"##################################\")\n",
        "grade = int(input(\"성적을 입력하시오: \"))\n",
        "if grade >= 60 :\n",
        "  print(\"합격\")\n",
        "else :\n",
        "    print(\"불합격격\")"
      ],
      "metadata": {
        "id": "APtfN3UWte0R"
      },
      "execution_count": null,
      "outputs": []
    },
    {
      "cell_type": "code",
      "source": [
        "print(\"##################################\")\n",
        "print(\"# 이름, 나이, 답변 앱 #\")\n",
        "print(\"##################################\")\n",
        "yu_name = str(input(\"이름: \"))\n",
        "yu_name = int(input(\"나이: \"))\n",
        "if yu_age <= 25 :\n",
        "  print(\"와우!!! 프로그래밍을 완벽하게 배울 수 있는 나이입니다.!\")\n",
        "else:\n",
        "  print(\"포기하기에는 아직 늦지 않았습니다.\")\n",
        "print(\" n\")"
      ],
      "metadata": {
        "id": "vtsXsvZy0s2B"
      },
      "execution_count": null,
      "outputs": []
    },
    {
      "cell_type": "code",
      "source": [
        "print(\"##################################\")\n",
        "print(\"#  짝수와 홀수 판별 앱 - 1 #\")\n",
        "print(\"##################################\")\n",
        "sm_int = int(input(\"정수를 입력하시오: \"))\n",
        "if (sm_int % 2) ! = 0 :\n",
        "  print(\"짝수\")"
      ],
      "metadata": {
        "id": "4qKrJgR63k8u"
      },
      "execution_count": null,
      "outputs": []
    },
    {
      "cell_type": "code",
      "source": [
        "print(\"##################################\")\n",
        "print(\"#  짝수와 홀수 판별 앱 - 2 #\")\n",
        "print(\"##################################\")\n",
        "def printEvenOdd():\n",
        "if userData % 2 == 0:\n",
        "print('입력한 정수는 짝수입니다.')\n",
        "else:\n",
        "print('입력한 정수는 홀수입니다.')\n",
        "userData = int(input('정수를 입력하세요. '))\n",
        "printEvenOdd())"
      ],
      "metadata": {
        "id": "rnX-xLyP7CDQ"
      },
      "execution_count": null,
      "outputs": []
    },
    {
      "cell_type": "code",
      "source": [
        "intro = 'Good moring.'\n",
        "print(intro)\n",
        "print(intro)\n",
        "print(intro)\n",
        "# 키보드를 통해서 입력값 받고 출력하기\n",
        "kor = input('국어 점수를 입력하세요. : ')\n",
        "eng = input('영어 점수를 입력하세요. : ') \n",
        "mat = input('수학 점수를 입력하세요. : ') \n",
        "print(\"국어\", kor)\n",
        "print(\"영어\", eng)\n",
        "print(\"수학\", math)"
      ],
      "metadata": {
        "id": "8oH1l1iL9mxz"
      },
      "execution_count": null,
      "outputs": []
    },
    {
      "cell_type": "code",
      "source": [
        "kor = int(input('국어 점수를 입력하세요. : '))\n",
        "eng = int(input('영어 점수를 입력하세요. : '))\n",
        "mat = int(input('수학 점수를 입력하세요. : ')) \n",
        "print('총점 : ', (kor + eng + mat))\n",
        "print('평균 : ', (kor + eng + mat) / 3)"
      ],
      "metadata": {
        "id": "kfmY3o4_Ve7s"
      },
      "execution_count": null,
      "outputs": []
    },
    {
      "cell_type": "code",
      "source": [
        "#정수 2개 입력받아서 더하고, 2로 나누기\n",
        "num1 = int(input('첫 번째 정수를 입력하세요. '))\n",
        "num2 = int(input('두 번째 정수를 입력하세요. '))\n",
        "print('합 : ', num1 + num2)\n",
        "print('평균 ; ', (num1 + num2) / 2)\n"
      ],
      "metadata": {
        "id": "0Sav1A-D_4vw"
      },
      "execution_count": null,
      "outputs": []
    },
    {
      "cell_type": "code",
      "source": [
        "print('사용자 정보를 입력하세요.')\n",
        "name = input('이름 : ')\n",
        "phone = input('연락처 : ')\n",
        "mail = input('메일 : ')\n",
        "job = input('직업 : ')\n",
        "print(name)\n",
        "print(phone)\n",
        "print(mail)\n",
        "print(job)"
      ],
      "metadata": {
        "id": "zCZIG8mLA2C1"
      },
      "execution_count": null,
      "outputs": []
    },
    {
      "cell_type": "code",
      "source": [
        "import random\n",
        "ranNum = random.randint(1, 100)\n",
        "print('홀/짝을 맞히세요.')\n",
        "userNum = int(input(\"1.홀수, 2.짝수\" \"(1. 또는 2. 를 입력하세요.) - \"))\n",
        "\n",
        "if raNum % 2 == userNum % 2:\n",
        "  print('맞혔습니다.')\n",
        "else:\n",
        "  print('틀렸습니다.')\n",
        "\n",
        "print('난수 : ', ranNum)\n",
        "print('사용자 : ', userNum)\n"
      ],
      "metadata": {
        "id": "iBuXHiYrCAHY"
      },
      "execution_count": null,
      "outputs": []
    },
    {
      "cell_type": "code",
      "source": [
        "morningTemp = int(input('아침 최저 기온 : '))\n",
        "afternoonTemp = int(input('오후 최고 기온 : '))\n",
        "gapTemp = afternoonTemp - morningTemp\n",
        "if gapTemp >= 10: print('감기 조심하세요.')\n",
        "elif  afternoonTemp >= 28: print('초여름 날씨입니다.')"
      ],
      "metadata": {
        "colab": {
          "base_uri": "https://localhost:8080/"
        },
        "id": "tP4BxrVZDqWJ",
        "outputId": "aa50556e-c83b-41ac-b9e7-be136c2d4a61"
      },
      "execution_count": 22,
      "outputs": [
        {
          "output_type": "stream",
          "name": "stdout",
          "text": [
            "아침 최저 기온 : 1\n",
            "오후 최고 기온 : 30\n",
            "감기 조심하세요.\n"
          ]
        }
      ]
    },
    {
      "cell_type": "code",
      "source": [
        "import random\n",
        "ranNUm = random.randint(1, 3)\n",
        "print('가위, 바위, 보를 선택하세요..')\n",
        "userNum = int(input('1.가위, 2.바위, 3.보'))\n",
        "if (ranNum == 1 and userNum == 2) or (ranNum == 2 and userNum ==3) or (ranNum == 3 and userNum ==1):\n",
        "   print('컴퓨터: 패, 사용자: 승')\n",
        "elif (ranNum == 1 and userNum == 3) or (ranNum == 2  and userNum ==1) or (ranNum == 3 and userNum == 2):\n",
        "  print('컴퓨터: 승, 사용자: 패')\n",
        "elif ranNum:\n",
        "  print('무승부')\n",
        "\n",
        "print('사용자: ', userNum)\n",
        "print('컴퓨터: ', ranNum)"
      ],
      "metadata": {
        "id": "6m11WtcHFOSP"
      },
      "execution_count": null,
      "outputs": []
    },
    {
      "cell_type": "code",
      "source": [
        "userMessage= input('메시지를 입력하세요. ')\n",
        "MsgLen = len(userMessage)\n",
        "if MsgLen <= 50:\n",
        "  print('SMS 발송')\n",
        "else:\n",
        "  print('MMS 발송')\n",
        "  print('메시지 길이 : ', MsgLen)"
      ],
      "metadata": {
        "id": "1OpdiwH8P_Nt"
      },
      "execution_count": null,
      "outputs": []
    },
    {
      "cell_type": "code",
      "source": [
        "import random\n",
        "randonNum = random.randrange(1, 101)\n",
        "userNum = int(input('1부터 100사이의 난수를 맞추세요. '))\n",
        "macCount = 10\n",
        "count = 0\n",
        "\n",
        "while userNum != randonNum:\n",
        "  print('틀렸습니다. 다시 입력하세요.')\n",
        "if userNum > randonNum:\n",
        "   print('난수가 입력한 숫자보다 작습니다.')\n",
        "  else:\n",
        "   print('난수가 입력한 숫자보다 큽니다.')\n",
        "\n",
        "   count += 1\n",
        "   if count >= 10:\n",
        "     print('게임에 졌습니다')\n",
        "     break\n",
        "userNum = int(input('1부터 100사이의 난수를 맞추세요. '))\n",
        " else:\n",
        "    print('정답입니다.')\n",
        "print('난수 : '. randonNum)"
      ],
      "metadata": {
        "id": "1AF4HlF7Q605"
      },
      "execution_count": null,
      "outputs": []
    }
  ]
}